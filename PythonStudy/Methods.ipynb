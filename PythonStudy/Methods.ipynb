{
  "nbformat": 4,
  "nbformat_minor": 0,
  "metadata": {
    "colab": {
      "name": "Methods.ipynb",
      "provenance": []
    },
    "kernelspec": {
      "name": "python3",
      "display_name": "Python 3"
    },
    "language_info": {
      "name": "python"
    }
  },
  "cells": [
    {
      "cell_type": "markdown",
      "source": [
        "# **Listas (Lists) - Métodos**\n",
        "\n"
      ],
      "metadata": {
        "id": "Bfku0H6ckF-K"
      }
    },
    {
      "cell_type": "markdown",
      "source": [
        "## **Métodos disponíveis para listas:**\n",
        "\n",
        "*   **append**\n",
        "*   **clear**\n",
        "*   **copy**\n",
        "*   **count**\n",
        "*   **extend**\n",
        "*   **index**\n",
        "*   **insert**\n",
        "*   **pop**\n",
        "*   **remove**\n",
        "*   **reverse**\n",
        "*   **sort**"
      ],
      "metadata": {
        "id": "gO9ikUset8Yg"
      }
    },
    {
      "cell_type": "markdown",
      "source": [
        "## **O método 'append' adiciona um único item ao final de uma lista:**"
      ],
      "metadata": {
        "id": "FrAg4ua2pjMr"
      }
    },
    {
      "cell_type": "code",
      "source": [
        "lista = [1, 2, 3, 4, 5, 6, 7, 8, 9]\n",
        "lista.append(10)\n",
        "print(lista)"
      ],
      "metadata": {
        "colab": {
          "base_uri": "https://localhost:8080/"
        },
        "id": "VFpU5KlbpaYt",
        "outputId": "d42ebda1-21d0-4be4-ca58-f33d4c619d97"
      },
      "execution_count": 29,
      "outputs": [
        {
          "output_type": "stream",
          "name": "stdout",
          "text": [
            "[1, 2, 3, 4, 5, 6, 7, 8, 9, 10]\n"
          ]
        }
      ]
    },
    {
      "cell_type": "markdown",
      "source": [
        "## **O método 'clear' remove todos os elementos de uma lista:**"
      ],
      "metadata": {
        "id": "8km8LmSdprs4"
      }
    },
    {
      "cell_type": "code",
      "source": [
        "lista.clear()\n",
        "print(lista)"
      ],
      "metadata": {
        "colab": {
          "base_uri": "https://localhost:8080/"
        },
        "id": "4s9ki2UCpy-V",
        "outputId": "653412e3-c517-41da-e134-3222e7f67549"
      },
      "execution_count": 30,
      "outputs": [
        {
          "output_type": "stream",
          "name": "stdout",
          "text": [
            "[]\n"
          ]
        }
      ]
    },
    {
      "cell_type": "markdown",
      "source": [
        "## **O método 'copy' realiza uma Deep Copy de uma lista:**"
      ],
      "metadata": {
        "id": "EFhrMIvQp64h"
      }
    },
    {
      "cell_type": "code",
      "source": [
        "lista = [1, 2, 3, 4, 5]\n",
        "copia_lista = lista.copy()\n",
        "\n",
        "copia_lista.append('Deep Copy!')\n",
        "\n",
        "print(lista)\n",
        "print(copia_lista)"
      ],
      "metadata": {
        "colab": {
          "base_uri": "https://localhost:8080/"
        },
        "id": "FbhxGSkEp5W4",
        "outputId": "1fbfb07f-0982-4e1a-bf2d-8c8f4c8ea804"
      },
      "execution_count": 31,
      "outputs": [
        {
          "output_type": "stream",
          "name": "stdout",
          "text": [
            "[1, 2, 3, 4, 5]\n",
            "[1, 2, 3, 4, 5, 'Deep Copy!']\n"
          ]
        }
      ]
    },
    {
      "cell_type": "markdown",
      "source": [
        "## **O método 'count' retorna o número de ocorrências de um elemento em uma lista:**"
      ],
      "metadata": {
        "id": "7WviPs8uprmX"
      }
    },
    {
      "cell_type": "code",
      "source": [
        "lista = [1, 2, 3, 1, 4, 5, 1, 6, 7, 1]\n",
        "print(lista.count(1))"
      ],
      "metadata": {
        "colab": {
          "base_uri": "https://localhost:8080/"
        },
        "id": "QAV5oJiNqldf",
        "outputId": "8c286f0e-afc2-481f-f088-341b94067953"
      },
      "execution_count": 32,
      "outputs": [
        {
          "output_type": "stream",
          "name": "stdout",
          "text": [
            "4\n"
          ]
        }
      ]
    },
    {
      "cell_type": "markdown",
      "source": [
        "## **O método 'extend' adiciona elementos de outra lista à uma lista:**"
      ],
      "metadata": {
        "id": "Lg_IcvpCq9q_"
      }
    },
    {
      "cell_type": "code",
      "source": [
        "lista = [1, 2, 3, 4, 5, 6, 7, 8, 9]\n",
        "lista.extend([10, 11, 12, 13, 14, 15])\n",
        "print(lista)"
      ],
      "metadata": {
        "colab": {
          "base_uri": "https://localhost:8080/"
        },
        "id": "WsVahpWIquT2",
        "outputId": "ffbe4fac-0288-42b8-d6ee-83fe8e6b71f3"
      },
      "execution_count": 33,
      "outputs": [
        {
          "output_type": "stream",
          "name": "stdout",
          "text": [
            "[1, 2, 3, 4, 5, 6, 7, 8, 9, 10, 11, 12, 13, 14, 15]\n"
          ]
        }
      ]
    },
    {
      "cell_type": "markdown",
      "source": [
        "## **O método 'index' retorna o índice de um determinado elemento de uma lista:**"
      ],
      "metadata": {
        "id": "rxMLM4IjrJpQ"
      }
    },
    {
      "cell_type": "code",
      "source": [
        "print(lista.index(10))  # Retorna o índice do elemento '10'"
      ],
      "metadata": {
        "colab": {
          "base_uri": "https://localhost:8080/"
        },
        "id": "vzix1Dwqqthu",
        "outputId": "647bd133-cd33-4cb5-aee8-156f1137da7d"
      },
      "execution_count": 34,
      "outputs": [
        {
          "output_type": "stream",
          "name": "stdout",
          "text": [
            "9\n"
          ]
        }
      ]
    },
    {
      "cell_type": "markdown",
      "source": [
        "## **O método 'insert' insere um elemento a um determinado índice de uma lista:**"
      ],
      "metadata": {
        "id": "MHKXyqupri6-"
      }
    },
    {
      "cell_type": "code",
      "source": [
        "lista.insert(0, 0)  # Adiciona o elemento '0' à posição '0'\n",
        "lista.insert(0, -1)  # Adiciona o elemento '-1' à posição '0'\n",
        "lista.insert(0, -2)  # Adiciona o elemento '-2' à posição '0'\n",
        "print(lista)"
      ],
      "metadata": {
        "colab": {
          "base_uri": "https://localhost:8080/"
        },
        "id": "8nw27cq7rs-n",
        "outputId": "279e554a-3284-4e26-a5a0-0ad8a843f541"
      },
      "execution_count": 35,
      "outputs": [
        {
          "output_type": "stream",
          "name": "stdout",
          "text": [
            "[-2, -1, 0, 1, 2, 3, 4, 5, 6, 7, 8, 9, 10, 11, 12, 13, 14, 15]\n"
          ]
        }
      ]
    },
    {
      "cell_type": "markdown",
      "source": [
        "## **O método 'pop' remove o último elemento de uma lista e o retorna:**"
      ],
      "metadata": {
        "id": "vi-RN4RLsH1q"
      }
    },
    {
      "cell_type": "code",
      "source": [
        "valor_retirado = lista.pop()\n",
        "print(valor_retirado)"
      ],
      "metadata": {
        "colab": {
          "base_uri": "https://localhost:8080/"
        },
        "id": "2ijEI8FjsHLP",
        "outputId": "a47c1462-37aa-47ea-befd-48feda27b436"
      },
      "execution_count": 36,
      "outputs": [
        {
          "output_type": "stream",
          "name": "stdout",
          "text": [
            "15\n"
          ]
        }
      ]
    },
    {
      "cell_type": "markdown",
      "source": [
        "## **O método 'pop' pode também remover um elemento de um índice específico:**"
      ],
      "metadata": {
        "id": "RbceA6iZsSGT"
      }
    },
    {
      "cell_type": "code",
      "source": [
        "valor_retirado = lista.pop(0)\n",
        "print(valor_retirado)"
      ],
      "metadata": {
        "colab": {
          "base_uri": "https://localhost:8080/"
        },
        "id": "4wZDzxa8sYf7",
        "outputId": "7a75c2b4-cc35-4645-98a2-55e1e0ac63ef"
      },
      "execution_count": 37,
      "outputs": [
        {
          "output_type": "stream",
          "name": "stdout",
          "text": [
            "-2\n"
          ]
        }
      ]
    },
    {
      "cell_type": "markdown",
      "source": [
        ""
      ],
      "metadata": {
        "id": "fx4P36bNsd10"
      }
    },
    {
      "cell_type": "markdown",
      "source": [
        "## **O método 'remove' deleta um elemento de uma lista:**"
      ],
      "metadata": {
        "id": "zGuSpQljopdT"
      }
    },
    {
      "cell_type": "code",
      "source": [
        "lista.remove(5)\n",
        "print(lista)"
      ],
      "metadata": {
        "colab": {
          "base_uri": "https://localhost:8080/"
        },
        "id": "Iw7BhVRikTTf",
        "outputId": "7158916c-9a14-4090-9fb3-9b75ca407e88"
      },
      "execution_count": 38,
      "outputs": [
        {
          "output_type": "stream",
          "name": "stdout",
          "text": [
            "[-1, 0, 1, 2, 3, 4, 6, 7, 8, 9, 10, 11, 12, 13, 14]\n"
          ]
        }
      ]
    },
    {
      "cell_type": "markdown",
      "source": [
        "## **O método 'reverse' inverte a posição de todos os elementos de uma lista:**"
      ],
      "metadata": {
        "id": "oisjExdqs1sx"
      }
    },
    {
      "cell_type": "code",
      "source": [
        "lista.reverse()\n",
        "print(lista)"
      ],
      "metadata": {
        "colab": {
          "base_uri": "https://localhost:8080/"
        },
        "id": "pHKxwtV2s7eY",
        "outputId": "18a2184b-ab39-4aac-9a30-5af628d45254"
      },
      "execution_count": 39,
      "outputs": [
        {
          "output_type": "stream",
          "name": "stdout",
          "text": [
            "[14, 13, 12, 11, 10, 9, 8, 7, 6, 4, 3, 2, 1, 0, -1]\n"
          ]
        }
      ]
    },
    {
      "cell_type": "markdown",
      "source": [
        "## **O método 'sort' organiza os elementos de uma lista:**"
      ],
      "metadata": {
        "id": "T_RUeJZEtAW6"
      }
    },
    {
      "cell_type": "code",
      "source": [
        "lista.sort()\n",
        "print(lista)"
      ],
      "metadata": {
        "colab": {
          "base_uri": "https://localhost:8080/"
        },
        "id": "SU4llQIjs_uy",
        "outputId": "d7d29098-ab8e-4135-96ad-e229cfdb658a"
      },
      "execution_count": 40,
      "outputs": [
        {
          "output_type": "stream",
          "name": "stdout",
          "text": [
            "[-1, 0, 1, 2, 3, 4, 6, 7, 8, 9, 10, 11, 12, 13, 14]\n"
          ]
        }
      ]
    },
    {
      "cell_type": "markdown",
      "source": [
        "# **Tuplas (Tuples) - Métodos**"
      ],
      "metadata": {
        "id": "c5dE1qx0tU3k"
      }
    },
    {
      "cell_type": "markdown",
      "source": [
        "## **Métodos disponíveis para tuplas:**\n",
        "\n",
        "*  **count**\n",
        "*  **index**"
      ],
      "metadata": {
        "id": "pJ6hyZMouFKQ"
      }
    },
    {
      "cell_type": "markdown",
      "source": [
        "## **O método 'count' retorna o número de ocorrências de um elemento em uma tupla:**"
      ],
      "metadata": {
        "id": "ReC8Ws9rtgEv"
      }
    },
    {
      "cell_type": "code",
      "source": [
        "tupla = 1, 2, 3, 4, 5, 6,\n",
        "print(tupla.count(3))"
      ],
      "metadata": {
        "colab": {
          "base_uri": "https://localhost:8080/"
        },
        "id": "8nXZalO_td5J",
        "outputId": "851d1305-1a29-4cdc-962e-c350f08975d9"
      },
      "execution_count": 41,
      "outputs": [
        {
          "output_type": "stream",
          "name": "stdout",
          "text": [
            "1\n"
          ]
        }
      ]
    },
    {
      "cell_type": "markdown",
      "source": [
        "## **O método 'index' retorna o índice de um determinado elemento de uma tupla:**"
      ],
      "metadata": {
        "id": "ndOMhx4ltuqo"
      }
    },
    {
      "cell_type": "code",
      "source": [
        "print(tupla.index(6))"
      ],
      "metadata": {
        "colab": {
          "base_uri": "https://localhost:8080/"
        },
        "id": "UPXr7B0otrNl",
        "outputId": "1a5cb911-950f-43c2-9e01-9944ce278555"
      },
      "execution_count": 42,
      "outputs": [
        {
          "output_type": "stream",
          "name": "stdout",
          "text": [
            "5\n"
          ]
        }
      ]
    },
    {
      "cell_type": "markdown",
      "source": [
        "# **Dicionários (Dictionaries) - Métodos**\n",
        "\n"
      ],
      "metadata": {
        "id": "6SUEy4YNkV0g"
      }
    },
    {
      "cell_type": "markdown",
      "source": [
        "## **Métodos disponíveis para dicionários:**\n",
        "\n",
        "*   **clear**\n",
        "*   **copy**\n",
        "*   **fromkeys**\n",
        "*   **get**\n",
        "*   **items**\n",
        "*   **keys**\n",
        "*   **pop**\n",
        "*   **popitem**\n",
        "*   **setdefault**\n",
        "*   **update**\n",
        "*   **values**\n"
      ],
      "metadata": {
        "id": "beI5YAmTuMRU"
      }
    },
    {
      "cell_type": "code",
      "source": [
        ""
      ],
      "metadata": {
        "id": "Q18PA0lMkXfk"
      },
      "execution_count": 38,
      "outputs": []
    },
    {
      "cell_type": "markdown",
      "source": [
        "# **Conjuntos (Sets) - Métodos** "
      ],
      "metadata": {
        "id": "Tb0znHXJkYCu"
      }
    },
    {
      "cell_type": "markdown",
      "source": [
        "## **Métodos disponíveis para conjuntos:**\n"
      ],
      "metadata": {
        "id": "o4aWanmtuO6L"
      }
    },
    {
      "cell_type": "code",
      "source": [
        ""
      ],
      "metadata": {
        "id": "kkIgx1CPkdbL"
      },
      "execution_count": 38,
      "outputs": []
    }
  ]
}